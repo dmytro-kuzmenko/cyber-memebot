{
 "cells": [
  {
   "cell_type": "code",
   "execution_count": 1,
   "id": "6c8d069d",
   "metadata": {},
   "outputs": [],
   "source": [
    "# !pip install img2vec_pytorch"
   ]
  },
  {
   "cell_type": "code",
   "execution_count": 2,
   "id": "b40dd42b",
   "metadata": {},
   "outputs": [],
   "source": [
    "import torch\n",
    "from img2vec_pytorch import Img2Vec\n",
    "from PIL import Image"
   ]
  },
  {
   "cell_type": "code",
   "execution_count": 3,
   "id": "5e0e4a83",
   "metadata": {
    "scrolled": true
   },
   "outputs": [
    {
     "name": "stderr",
     "output_type": "stream",
     "text": [
      "Downloading: \"https://download.pytorch.org/models/resnet18-5c106cde.pth\" to /home/dmytro_kuzmenko/.cache/torch/hub/checkpoints/resnet18-5c106cde.pth\n"
     ]
    },
    {
     "data": {
      "application/vnd.jupyter.widget-view+json": {
       "model_id": "2c50dcc3565842818696c92fa5df6d93",
       "version_major": 2,
       "version_minor": 0
      },
      "text/plain": [
       "  0%|          | 0.00/44.7M [00:00<?, ?B/s]"
      ]
     },
     "metadata": {},
     "output_type": "display_data"
    }
   ],
   "source": [
    "# Initialize Img2Vec with GPU\n",
    "img2vec = Img2Vec(cuda=False) #True"
   ]
  },
  {
   "cell_type": "code",
   "execution_count": 4,
   "id": "ea407823",
   "metadata": {},
   "outputs": [
    {
     "name": "stdout",
     "output_type": "stream",
     "text": [
      "captive-0087.jpg  captive-0130.jpg  dead-0030.jpg  dead-0145.jpg\r\n",
      "captive-0088.jpg  captive-0132.jpg  dead-0031.jpg  destroyed_vehicle-0011.jpg\r\n",
      "captive-0090.jpg  captive-0139.jpg  dead-0037.jpg  destroyed_vehicle-0012.jpg\r\n",
      "captive-0096.jpg  captive-0141.jpg  dead-0124.jpg  destroyed_vehicle-0013.jpg\r\n",
      "captive-0101.jpg  dead-0027.jpg     dead-0125.jpg  destroyed_vehicle-0015.jpg\r\n",
      "captive-0106.jpg  dead-0029.jpg     dead-0130.jpg  destroyed_vehicle-0016.jpg\r\n"
     ]
    }
   ],
   "source": [
    "!ls clip/images"
   ]
  },
  {
   "cell_type": "code",
   "execution_count": 5,
   "id": "ad74bd93",
   "metadata": {},
   "outputs": [],
   "source": [
    "root = \"clip/images/\""
   ]
  },
  {
   "cell_type": "code",
   "execution_count": 6,
   "id": "d18c04de",
   "metadata": {},
   "outputs": [],
   "source": [
    "import os\n",
    "img_names = os.listdir(\"clip/images\")"
   ]
  },
  {
   "cell_type": "code",
   "execution_count": 7,
   "id": "cca54ef5",
   "metadata": {},
   "outputs": [],
   "source": [
    "full_paths = [root + i for i in img_names]"
   ]
  },
  {
   "cell_type": "code",
   "execution_count": 8,
   "id": "a1a52e8f",
   "metadata": {},
   "outputs": [
    {
     "data": {
      "text/plain": [
       "24"
      ]
     },
     "execution_count": 8,
     "metadata": {},
     "output_type": "execute_result"
    }
   ],
   "source": [
    "len(full_paths)"
   ]
  },
  {
   "cell_type": "code",
   "execution_count": 9,
   "id": "34d5d2c8",
   "metadata": {},
   "outputs": [
    {
     "data": {
      "text/plain": [
       "['clip/images/captive-0130.jpg',\n",
       " 'clip/images/captive-0132.jpg',\n",
       " 'clip/images/dead-0029.jpg',\n",
       " 'clip/images/destroyed_vehicle-0015.jpg',\n",
       " 'clip/images/captive-0139.jpg',\n",
       " 'clip/images/destroyed_vehicle-0012.jpg',\n",
       " 'clip/images/destroyed_vehicle-0013.jpg',\n",
       " 'clip/images/captive-0087.jpg',\n",
       " 'clip/images/destroyed_vehicle-0016.jpg',\n",
       " 'clip/images/captive-0088.jpg',\n",
       " 'clip/images/dead-0030.jpg',\n",
       " 'clip/images/dead-0037.jpg',\n",
       " 'clip/images/destroyed_vehicle-0011.jpg',\n",
       " 'clip/images/captive-0090.jpg',\n",
       " 'clip/images/captive-0096.jpg',\n",
       " 'clip/images/dead-0031.jpg',\n",
       " 'clip/images/dead-0124.jpg',\n",
       " 'clip/images/dead-0145.jpg',\n",
       " 'clip/images/captive-0106.jpg',\n",
       " 'clip/images/captive-0101.jpg',\n",
       " 'clip/images/dead-0130.jpg',\n",
       " 'clip/images/dead-0027.jpg',\n",
       " 'clip/images/captive-0141.jpg',\n",
       " 'clip/images/dead-0125.jpg']"
      ]
     },
     "execution_count": 9,
     "metadata": {},
     "output_type": "execute_result"
    }
   ],
   "source": [
    "full_paths"
   ]
  },
  {
   "cell_type": "code",
   "execution_count": 10,
   "id": "bc214ce3",
   "metadata": {},
   "outputs": [],
   "source": [
    "list_of_images = []\n",
    "for image in full_paths:\n",
    "    list_of_images.append(Image.open(image))"
   ]
  },
  {
   "cell_type": "code",
   "execution_count": 11,
   "id": "24d3006a",
   "metadata": {},
   "outputs": [],
   "source": [
    "# # Read in an image (rgb format)\n",
    "# img = Image.open('test.jpg')\n",
    "# # Get a vector from img2vec, returned as a torch FloatTensor\n",
    "# vec = img2vec.get_vec(img, tensor=True)\n",
    "# Or submit a list\n",
    "vectors = img2vec.get_vec(list_of_images)"
   ]
  },
  {
   "cell_type": "code",
   "execution_count": 12,
   "id": "a3afb6f9",
   "metadata": {},
   "outputs": [
    {
     "data": {
      "text/plain": [
       "numpy.ndarray"
      ]
     },
     "execution_count": 12,
     "metadata": {},
     "output_type": "execute_result"
    }
   ],
   "source": [
    "type(vectors)"
   ]
  },
  {
   "cell_type": "code",
   "execution_count": 11,
   "id": "2e546f84",
   "metadata": {},
   "outputs": [],
   "source": [
    "torch.save(vectors, \"img_feature.pt\")"
   ]
  },
  {
   "cell_type": "code",
   "execution_count": 12,
   "id": "125fef72",
   "metadata": {},
   "outputs": [
    {
     "name": "stdout",
     "output_type": "stream",
     "text": [
      "clip  clip.zip\timage_embedding_retrieval.ipynb  images.pt  README.md\r\n"
     ]
    }
   ],
   "source": [
    "!ls"
   ]
  },
  {
   "cell_type": "code",
   "execution_count": null,
   "id": "f094a2cb",
   "metadata": {},
   "outputs": [],
   "source": []
  }
 ],
 "metadata": {
  "kernelspec": {
   "display_name": "Python 3 (ipykernel)",
   "language": "python",
   "name": "python3"
  },
  "language_info": {
   "codemirror_mode": {
    "name": "ipython",
    "version": 3
   },
   "file_extension": ".py",
   "mimetype": "text/x-python",
   "name": "python",
   "nbconvert_exporter": "python",
   "pygments_lexer": "ipython3",
   "version": "3.8.10"
  }
 },
 "nbformat": 4,
 "nbformat_minor": 5
}
